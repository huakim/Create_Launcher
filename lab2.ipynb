{
  "nbformat": 4,
  "nbformat_minor": 0,
  "metadata": {
    "colab": {
      "provenance": [],
      "authorship_tag": "ABX9TyNIX0iiid3WAUp0n42oGpLg",
      "include_colab_link": true
    },
    "kernelspec": {
      "name": "python3",
      "display_name": "Python 3"
    },
    "language_info": {
      "name": "python"
    }
  },
  "cells": [
    {
      "cell_type": "markdown",
      "metadata": {
        "id": "view-in-github",
        "colab_type": "text"
      },
      "source": [
        "<a href=\"https://colab.research.google.com/github/huakim/Create_Launcher/blob/master/lab2.ipynb\" target=\"_parent\"><img src=\"https://colab.research.google.com/assets/colab-badge.svg\" alt=\"Open In Colab\"/></a>"
      ]
    },
    {
      "cell_type": "code",
      "execution_count": 1,
      "metadata": {
        "id": "ys3xKJRsdTni"
      },
      "outputs": [],
      "source": [
        "import pandas\n",
        "from tensorflow.keras.layers import Dense\n",
        "from tensorflow.keras.models import Sequential\n",
        "from tensorflow.keras.utils import to_categorical\n",
        "from sklearn.preprocessing import LabelEncoder"
      ]
    },
    {
      "cell_type": "code",
      "source": [
        "dataframe = pandas.read_csv(\"sonar.csv\", header=None)\n",
        "dataset = dataframe.values\n",
        "X = dataset[:,0:60].astype(float)\n",
        "Y = dataset[:,60]"
      ],
      "metadata": {
        "id": "9c_idGOAjNaD"
      },
      "execution_count": 2,
      "outputs": []
    },
    {
      "cell_type": "code",
      "source": [
        "encoder = LabelEncoder()\n",
        "encoder.fit(Y)\n",
        "encoded_Y = encoder.transform(Y)"
      ],
      "metadata": {
        "id": "N_0LecV5jRyr"
      },
      "execution_count": 3,
      "outputs": []
    },
    {
      "cell_type": "code",
      "source": [
        "model = Sequential()\n",
        "model.add(Dense(60, input_dim=60, activation=\"relu\"))\n",
        "model.add(Dense(1, activation=\"sigmoid\"))"
      ],
      "metadata": {
        "id": "dOIhQU3ijiIY"
      },
      "execution_count": 7,
      "outputs": []
    },
    {
      "cell_type": "code",
      "source": [
        "model.compile(optimizer='adam',loss='binary_crossentropy', metrics=['accuracy'])"
      ],
      "metadata": {
        "id": "toOiuoeej6jL"
      },
      "execution_count": 10,
      "outputs": []
    },
    {
      "cell_type": "code",
      "source": [
        "model.fit(X, encoded_Y, epochs=100, batch_size=10, validation_split=0.1)"
      ],
      "metadata": {
        "colab": {
          "base_uri": "https://localhost:8080/"
        },
        "id": "MgaUuEqBj_0F",
        "outputId": "ef23e49c-0525-487a-c56d-a543c4d115b5"
      },
      "execution_count": 11,
      "outputs": [
        {
          "output_type": "stream",
          "name": "stdout",
          "text": [
            "Epoch 1/100\n",
            "19/19 [==============================] - 1s 13ms/step - loss: 0.6940 - accuracy: 0.5027 - val_loss: 0.6454 - val_accuracy: 1.0000\n",
            "Epoch 2/100\n",
            "19/19 [==============================] - 0s 3ms/step - loss: 0.6605 - accuracy: 0.6578 - val_loss: 0.7332 - val_accuracy: 0.2857\n",
            "Epoch 3/100\n",
            "19/19 [==============================] - 0s 3ms/step - loss: 0.6399 - accuracy: 0.6791 - val_loss: 0.6469 - val_accuracy: 0.7619\n",
            "Epoch 4/100\n",
            "19/19 [==============================] - 0s 3ms/step - loss: 0.6154 - accuracy: 0.7219 - val_loss: 0.6893 - val_accuracy: 0.4762\n",
            "Epoch 5/100\n",
            "19/19 [==============================] - 0s 3ms/step - loss: 0.5945 - accuracy: 0.7487 - val_loss: 0.7025 - val_accuracy: 0.4762\n",
            "Epoch 6/100\n",
            "19/19 [==============================] - 0s 3ms/step - loss: 0.5813 - accuracy: 0.7326 - val_loss: 0.7566 - val_accuracy: 0.3333\n",
            "Epoch 7/100\n",
            "19/19 [==============================] - 0s 4ms/step - loss: 0.5609 - accuracy: 0.7594 - val_loss: 0.7379 - val_accuracy: 0.3810\n",
            "Epoch 8/100\n",
            "19/19 [==============================] - 0s 3ms/step - loss: 0.5466 - accuracy: 0.7647 - val_loss: 0.6462 - val_accuracy: 0.6190\n",
            "Epoch 9/100\n",
            "19/19 [==============================] - 0s 3ms/step - loss: 0.5393 - accuracy: 0.7433 - val_loss: 0.6832 - val_accuracy: 0.5238\n",
            "Epoch 10/100\n",
            "19/19 [==============================] - 0s 4ms/step - loss: 0.5166 - accuracy: 0.7594 - val_loss: 0.8232 - val_accuracy: 0.3333\n",
            "Epoch 11/100\n",
            "19/19 [==============================] - 0s 3ms/step - loss: 0.5047 - accuracy: 0.7914 - val_loss: 0.7569 - val_accuracy: 0.3810\n",
            "Epoch 12/100\n",
            "19/19 [==============================] - 0s 3ms/step - loss: 0.4938 - accuracy: 0.7861 - val_loss: 0.7401 - val_accuracy: 0.3810\n",
            "Epoch 13/100\n",
            "19/19 [==============================] - 0s 3ms/step - loss: 0.4881 - accuracy: 0.7861 - val_loss: 0.6206 - val_accuracy: 0.6190\n",
            "Epoch 14/100\n",
            "19/19 [==============================] - 0s 3ms/step - loss: 0.4777 - accuracy: 0.7647 - val_loss: 0.7307 - val_accuracy: 0.3810\n",
            "Epoch 15/100\n",
            "19/19 [==============================] - 0s 4ms/step - loss: 0.4678 - accuracy: 0.8235 - val_loss: 0.6680 - val_accuracy: 0.5238\n",
            "Epoch 16/100\n",
            "19/19 [==============================] - 0s 4ms/step - loss: 0.4616 - accuracy: 0.7968 - val_loss: 0.6796 - val_accuracy: 0.4762\n",
            "Epoch 17/100\n",
            "19/19 [==============================] - 0s 4ms/step - loss: 0.4551 - accuracy: 0.8235 - val_loss: 0.6886 - val_accuracy: 0.4762\n",
            "Epoch 18/100\n",
            "19/19 [==============================] - 0s 4ms/step - loss: 0.4515 - accuracy: 0.8075 - val_loss: 0.6237 - val_accuracy: 0.5714\n",
            "Epoch 19/100\n",
            "19/19 [==============================] - 0s 4ms/step - loss: 0.4462 - accuracy: 0.8021 - val_loss: 0.6261 - val_accuracy: 0.5714\n",
            "Epoch 20/100\n",
            "19/19 [==============================] - 0s 3ms/step - loss: 0.4392 - accuracy: 0.7914 - val_loss: 0.6610 - val_accuracy: 0.5238\n",
            "Epoch 21/100\n",
            "19/19 [==============================] - 0s 3ms/step - loss: 0.4346 - accuracy: 0.8289 - val_loss: 0.6323 - val_accuracy: 0.5238\n",
            "Epoch 22/100\n",
            "19/19 [==============================] - 0s 3ms/step - loss: 0.4289 - accuracy: 0.8128 - val_loss: 0.6329 - val_accuracy: 0.5238\n",
            "Epoch 23/100\n",
            "19/19 [==============================] - 0s 4ms/step - loss: 0.4276 - accuracy: 0.8235 - val_loss: 0.5893 - val_accuracy: 0.6667\n",
            "Epoch 24/100\n",
            "19/19 [==============================] - 0s 4ms/step - loss: 0.4265 - accuracy: 0.8182 - val_loss: 0.6953 - val_accuracy: 0.4762\n",
            "Epoch 25/100\n",
            "19/19 [==============================] - 0s 3ms/step - loss: 0.4162 - accuracy: 0.8128 - val_loss: 0.5594 - val_accuracy: 0.6667\n",
            "Epoch 26/100\n",
            "19/19 [==============================] - 0s 4ms/step - loss: 0.4177 - accuracy: 0.8289 - val_loss: 0.6185 - val_accuracy: 0.5714\n",
            "Epoch 27/100\n",
            "19/19 [==============================] - 0s 3ms/step - loss: 0.4100 - accuracy: 0.8182 - val_loss: 0.5682 - val_accuracy: 0.6667\n",
            "Epoch 28/100\n",
            "19/19 [==============================] - 0s 4ms/step - loss: 0.4048 - accuracy: 0.8342 - val_loss: 0.5860 - val_accuracy: 0.6667\n",
            "Epoch 29/100\n",
            "19/19 [==============================] - 0s 4ms/step - loss: 0.4030 - accuracy: 0.8235 - val_loss: 0.5463 - val_accuracy: 0.6667\n",
            "Epoch 30/100\n",
            "19/19 [==============================] - 0s 4ms/step - loss: 0.4000 - accuracy: 0.8342 - val_loss: 0.5713 - val_accuracy: 0.6667\n",
            "Epoch 31/100\n",
            "19/19 [==============================] - 0s 3ms/step - loss: 0.4009 - accuracy: 0.8449 - val_loss: 0.5765 - val_accuracy: 0.6667\n",
            "Epoch 32/100\n",
            "19/19 [==============================] - 0s 4ms/step - loss: 0.3931 - accuracy: 0.8235 - val_loss: 0.5734 - val_accuracy: 0.6667\n",
            "Epoch 33/100\n",
            "19/19 [==============================] - 0s 3ms/step - loss: 0.3902 - accuracy: 0.8289 - val_loss: 0.5172 - val_accuracy: 0.7143\n",
            "Epoch 34/100\n",
            "19/19 [==============================] - 0s 4ms/step - loss: 0.3868 - accuracy: 0.8396 - val_loss: 0.5063 - val_accuracy: 0.7143\n",
            "Epoch 35/100\n",
            "19/19 [==============================] - 0s 3ms/step - loss: 0.3824 - accuracy: 0.8289 - val_loss: 0.5624 - val_accuracy: 0.6667\n",
            "Epoch 36/100\n",
            "19/19 [==============================] - 0s 4ms/step - loss: 0.3814 - accuracy: 0.8396 - val_loss: 0.5547 - val_accuracy: 0.6667\n",
            "Epoch 37/100\n",
            "19/19 [==============================] - 0s 3ms/step - loss: 0.3786 - accuracy: 0.8396 - val_loss: 0.5439 - val_accuracy: 0.6667\n",
            "Epoch 38/100\n",
            "19/19 [==============================] - 0s 4ms/step - loss: 0.3745 - accuracy: 0.8503 - val_loss: 0.4869 - val_accuracy: 0.7619\n",
            "Epoch 39/100\n",
            "19/19 [==============================] - 0s 3ms/step - loss: 0.3730 - accuracy: 0.8556 - val_loss: 0.4752 - val_accuracy: 0.7619\n",
            "Epoch 40/100\n",
            "19/19 [==============================] - 0s 4ms/step - loss: 0.3721 - accuracy: 0.8503 - val_loss: 0.4878 - val_accuracy: 0.7619\n",
            "Epoch 41/100\n",
            "19/19 [==============================] - 0s 3ms/step - loss: 0.3717 - accuracy: 0.8503 - val_loss: 0.4963 - val_accuracy: 0.7143\n",
            "Epoch 42/100\n",
            "19/19 [==============================] - 0s 4ms/step - loss: 0.3787 - accuracy: 0.8556 - val_loss: 0.5825 - val_accuracy: 0.6190\n",
            "Epoch 43/100\n",
            "19/19 [==============================] - 0s 4ms/step - loss: 0.3715 - accuracy: 0.8342 - val_loss: 0.4615 - val_accuracy: 0.7619\n",
            "Epoch 44/100\n",
            "19/19 [==============================] - 0s 3ms/step - loss: 0.3613 - accuracy: 0.8610 - val_loss: 0.5559 - val_accuracy: 0.6667\n",
            "Epoch 45/100\n",
            "19/19 [==============================] - 0s 3ms/step - loss: 0.3604 - accuracy: 0.8503 - val_loss: 0.4141 - val_accuracy: 0.8571\n",
            "Epoch 46/100\n",
            "19/19 [==============================] - 0s 4ms/step - loss: 0.3613 - accuracy: 0.8556 - val_loss: 0.4850 - val_accuracy: 0.7143\n",
            "Epoch 47/100\n",
            "19/19 [==============================] - 0s 3ms/step - loss: 0.3531 - accuracy: 0.8610 - val_loss: 0.4488 - val_accuracy: 0.7619\n",
            "Epoch 48/100\n",
            "19/19 [==============================] - 0s 3ms/step - loss: 0.3493 - accuracy: 0.8449 - val_loss: 0.4976 - val_accuracy: 0.7143\n",
            "Epoch 49/100\n",
            "19/19 [==============================] - 0s 3ms/step - loss: 0.3468 - accuracy: 0.8717 - val_loss: 0.4763 - val_accuracy: 0.7619\n",
            "Epoch 50/100\n",
            "19/19 [==============================] - 0s 3ms/step - loss: 0.3452 - accuracy: 0.8663 - val_loss: 0.5239 - val_accuracy: 0.6667\n",
            "Epoch 51/100\n",
            "19/19 [==============================] - 0s 3ms/step - loss: 0.3442 - accuracy: 0.8663 - val_loss: 0.4294 - val_accuracy: 0.7619\n",
            "Epoch 52/100\n",
            "19/19 [==============================] - 0s 4ms/step - loss: 0.3399 - accuracy: 0.8717 - val_loss: 0.4938 - val_accuracy: 0.7143\n",
            "Epoch 53/100\n",
            "19/19 [==============================] - 0s 3ms/step - loss: 0.3424 - accuracy: 0.8610 - val_loss: 0.4673 - val_accuracy: 0.7619\n",
            "Epoch 54/100\n",
            "19/19 [==============================] - 0s 3ms/step - loss: 0.3381 - accuracy: 0.8663 - val_loss: 0.5416 - val_accuracy: 0.6667\n",
            "Epoch 55/100\n",
            "19/19 [==============================] - 0s 4ms/step - loss: 0.3453 - accuracy: 0.8503 - val_loss: 0.3715 - val_accuracy: 0.9048\n",
            "Epoch 56/100\n",
            "19/19 [==============================] - 0s 4ms/step - loss: 0.3342 - accuracy: 0.8610 - val_loss: 0.4430 - val_accuracy: 0.7619\n",
            "Epoch 57/100\n",
            "19/19 [==============================] - 0s 3ms/step - loss: 0.3301 - accuracy: 0.8770 - val_loss: 0.4291 - val_accuracy: 0.7619\n",
            "Epoch 58/100\n",
            "19/19 [==============================] - 0s 3ms/step - loss: 0.3319 - accuracy: 0.8717 - val_loss: 0.4158 - val_accuracy: 0.8095\n",
            "Epoch 59/100\n",
            "19/19 [==============================] - 0s 3ms/step - loss: 0.3255 - accuracy: 0.8770 - val_loss: 0.4138 - val_accuracy: 0.8095\n",
            "Epoch 60/100\n",
            "19/19 [==============================] - 0s 3ms/step - loss: 0.3215 - accuracy: 0.8930 - val_loss: 0.4560 - val_accuracy: 0.7619\n",
            "Epoch 61/100\n",
            "19/19 [==============================] - 0s 6ms/step - loss: 0.3197 - accuracy: 0.8717 - val_loss: 0.4091 - val_accuracy: 0.8095\n",
            "Epoch 62/100\n",
            "19/19 [==============================] - 0s 4ms/step - loss: 0.3184 - accuracy: 0.8824 - val_loss: 0.4315 - val_accuracy: 0.7619\n",
            "Epoch 63/100\n",
            "19/19 [==============================] - 0s 5ms/step - loss: 0.3162 - accuracy: 0.8877 - val_loss: 0.4014 - val_accuracy: 0.8095\n",
            "Epoch 64/100\n",
            "19/19 [==============================] - 0s 4ms/step - loss: 0.3174 - accuracy: 0.8770 - val_loss: 0.4066 - val_accuracy: 0.8095\n",
            "Epoch 65/100\n",
            "19/19 [==============================] - 0s 5ms/step - loss: 0.3162 - accuracy: 0.8663 - val_loss: 0.4578 - val_accuracy: 0.7619\n",
            "Epoch 66/100\n",
            "19/19 [==============================] - 0s 5ms/step - loss: 0.3100 - accuracy: 0.8930 - val_loss: 0.4536 - val_accuracy: 0.7619\n",
            "Epoch 67/100\n",
            "19/19 [==============================] - 0s 4ms/step - loss: 0.3133 - accuracy: 0.8770 - val_loss: 0.4936 - val_accuracy: 0.6667\n",
            "Epoch 68/100\n",
            "19/19 [==============================] - 0s 4ms/step - loss: 0.3073 - accuracy: 0.8824 - val_loss: 0.4128 - val_accuracy: 0.7619\n",
            "Epoch 69/100\n",
            "19/19 [==============================] - 0s 5ms/step - loss: 0.3059 - accuracy: 0.8770 - val_loss: 0.4579 - val_accuracy: 0.7619\n",
            "Epoch 70/100\n",
            "19/19 [==============================] - 0s 5ms/step - loss: 0.3059 - accuracy: 0.8770 - val_loss: 0.4481 - val_accuracy: 0.7619\n",
            "Epoch 71/100\n",
            "19/19 [==============================] - 0s 5ms/step - loss: 0.2990 - accuracy: 0.8877 - val_loss: 0.3659 - val_accuracy: 0.9048\n",
            "Epoch 72/100\n",
            "19/19 [==============================] - 0s 5ms/step - loss: 0.3062 - accuracy: 0.8770 - val_loss: 0.3991 - val_accuracy: 0.8571\n",
            "Epoch 73/100\n",
            "19/19 [==============================] - 0s 4ms/step - loss: 0.2964 - accuracy: 0.8877 - val_loss: 0.5114 - val_accuracy: 0.6667\n",
            "Epoch 74/100\n",
            "19/19 [==============================] - 0s 5ms/step - loss: 0.2938 - accuracy: 0.9091 - val_loss: 0.3579 - val_accuracy: 0.9048\n",
            "Epoch 75/100\n",
            "19/19 [==============================] - 0s 4ms/step - loss: 0.2913 - accuracy: 0.8877 - val_loss: 0.4573 - val_accuracy: 0.7143\n",
            "Epoch 76/100\n",
            "19/19 [==============================] - 0s 4ms/step - loss: 0.2876 - accuracy: 0.9037 - val_loss: 0.3758 - val_accuracy: 0.8571\n",
            "Epoch 77/100\n",
            "19/19 [==============================] - 0s 4ms/step - loss: 0.2855 - accuracy: 0.8984 - val_loss: 0.4793 - val_accuracy: 0.6667\n",
            "Epoch 78/100\n",
            "19/19 [==============================] - 0s 5ms/step - loss: 0.2812 - accuracy: 0.9037 - val_loss: 0.3021 - val_accuracy: 0.9048\n",
            "Epoch 79/100\n",
            "19/19 [==============================] - 0s 4ms/step - loss: 0.2871 - accuracy: 0.8824 - val_loss: 0.5167 - val_accuracy: 0.6667\n",
            "Epoch 80/100\n",
            "19/19 [==============================] - 0s 5ms/step - loss: 0.2853 - accuracy: 0.8877 - val_loss: 0.3239 - val_accuracy: 0.9048\n",
            "Epoch 81/100\n",
            "19/19 [==============================] - 0s 5ms/step - loss: 0.2864 - accuracy: 0.8770 - val_loss: 0.3962 - val_accuracy: 0.8571\n",
            "Epoch 82/100\n",
            "19/19 [==============================] - 0s 5ms/step - loss: 0.2807 - accuracy: 0.8930 - val_loss: 0.4355 - val_accuracy: 0.7619\n",
            "Epoch 83/100\n",
            "19/19 [==============================] - 0s 5ms/step - loss: 0.2790 - accuracy: 0.8824 - val_loss: 0.3089 - val_accuracy: 0.9048\n",
            "Epoch 84/100\n",
            "19/19 [==============================] - 0s 5ms/step - loss: 0.2910 - accuracy: 0.8877 - val_loss: 0.3796 - val_accuracy: 0.8571\n",
            "Epoch 85/100\n",
            "19/19 [==============================] - 0s 5ms/step - loss: 0.2783 - accuracy: 0.8930 - val_loss: 0.4475 - val_accuracy: 0.7619\n",
            "Epoch 86/100\n",
            "19/19 [==============================] - 0s 4ms/step - loss: 0.2701 - accuracy: 0.8984 - val_loss: 0.3340 - val_accuracy: 0.9048\n",
            "Epoch 87/100\n",
            "19/19 [==============================] - 0s 4ms/step - loss: 0.2703 - accuracy: 0.9037 - val_loss: 0.4308 - val_accuracy: 0.7619\n",
            "Epoch 88/100\n",
            "19/19 [==============================] - 0s 6ms/step - loss: 0.2658 - accuracy: 0.9037 - val_loss: 0.3947 - val_accuracy: 0.8571\n",
            "Epoch 89/100\n",
            "19/19 [==============================] - 0s 5ms/step - loss: 0.2689 - accuracy: 0.9091 - val_loss: 0.3626 - val_accuracy: 0.8571\n",
            "Epoch 90/100\n",
            "19/19 [==============================] - 0s 3ms/step - loss: 0.2604 - accuracy: 0.9198 - val_loss: 0.3721 - val_accuracy: 0.8571\n",
            "Epoch 91/100\n",
            "19/19 [==============================] - 0s 4ms/step - loss: 0.2599 - accuracy: 0.9091 - val_loss: 0.4043 - val_accuracy: 0.8095\n",
            "Epoch 92/100\n",
            "19/19 [==============================] - 0s 3ms/step - loss: 0.2583 - accuracy: 0.9144 - val_loss: 0.3792 - val_accuracy: 0.8571\n",
            "Epoch 93/100\n",
            "19/19 [==============================] - 0s 3ms/step - loss: 0.2539 - accuracy: 0.9091 - val_loss: 0.4291 - val_accuracy: 0.7619\n",
            "Epoch 94/100\n",
            "19/19 [==============================] - 0s 3ms/step - loss: 0.2570 - accuracy: 0.9091 - val_loss: 0.3933 - val_accuracy: 0.8571\n",
            "Epoch 95/100\n",
            "19/19 [==============================] - 0s 3ms/step - loss: 0.2523 - accuracy: 0.9305 - val_loss: 0.2999 - val_accuracy: 0.9048\n",
            "Epoch 96/100\n",
            "19/19 [==============================] - 0s 3ms/step - loss: 0.2478 - accuracy: 0.9091 - val_loss: 0.4033 - val_accuracy: 0.7619\n",
            "Epoch 97/100\n",
            "19/19 [==============================] - 0s 3ms/step - loss: 0.2491 - accuracy: 0.9144 - val_loss: 0.3173 - val_accuracy: 0.9048\n",
            "Epoch 98/100\n",
            "19/19 [==============================] - 0s 4ms/step - loss: 0.2602 - accuracy: 0.9251 - val_loss: 0.3529 - val_accuracy: 0.8571\n",
            "Epoch 99/100\n",
            "19/19 [==============================] - 0s 3ms/step - loss: 0.2565 - accuracy: 0.9091 - val_loss: 0.4771 - val_accuracy: 0.7143\n",
            "Epoch 100/100\n",
            "19/19 [==============================] - 0s 3ms/step - loss: 0.2464 - accuracy: 0.9198 - val_loss: 0.2396 - val_accuracy: 0.9048\n"
          ]
        },
        {
          "output_type": "execute_result",
          "data": {
            "text/plain": [
              "<keras.src.callbacks.History at 0x7fc3142b9f30>"
            ]
          },
          "metadata": {},
          "execution_count": 11
        }
      ]
    },
    {
      "cell_type": "code",
      "source": [],
      "metadata": {
        "id": "mCGv-E_5kO1a"
      },
      "execution_count": null,
      "outputs": []
    }
  ]
}